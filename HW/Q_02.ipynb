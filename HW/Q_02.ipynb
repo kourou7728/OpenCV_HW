{
 "cells": [
  {
   "cell_type": "markdown",
   "metadata": {
    "tags": []
   },
   "source": [
    "## 練習 2-1\n",
    "> * 將 lenaColor.png 彩色讀入\n",
    "> * 將 b, g, r 分拆成三個 numpy 2 維的 array\n",
    "\n",
    "> * 將 b array 中的 [100:400, 150:415] 區塊變成白色\n",
    "> * 將 g array 中的 [100:400, 150:415] 區塊變成白色*1/2\n",
    "> * 將 r array 中的 [100:400, 150:415] 區塊變成黑色\n",
    "\n",
    "> * 再將這三個 array 依 b, g, r 的順序黏回去組成一 3 維的 array 並顯示出來\n",
    "> * 再將這三個 array 依 g, r, b 的順序黏回去組成一 3 維的 array 並顯示出來\n",
    "> * 再將這三個 array 依 b, b, b 的順序黏回去組成一 3 維的 array 並顯示出來"
   ]
  },
  {
   "cell_type": "code",
   "execution_count": 26,
   "metadata": {},
   "outputs": [],
   "source": [
    "import cv2\n",
    "# ------- your code ----------------------\n",
    "img = cv2.imread('../image/lenaColor.png')\n",
    "b, g, r = cv2.split(img)  \n",
    "# print(f'{b.shape}\\n\\n'\n",
    "#       f'r =\\n{r}')\n",
    "# cv2.imshow('b', b)\n",
    "# cv2.imshow('g', g)\n",
    "# cv2.imshow('r', r)\n",
    "\n",
    "b[100:400, 150:415] = 255\n",
    "g[100:400, 150:415] = 127\n",
    "r[100:400, 150:415] = 0\n",
    "\n",
    "\n",
    "cv2.imshow('rgb', cv2.merge([r,g,b]))\n",
    "\n",
    "cv2.imshow('bgr', cv2.merge([b,g,r]))\n",
    "\n",
    "cv2.imshow('grb', cv2.merge([g,r,b]))\n",
    "\n",
    "cv2.imshow('bbb', cv2.merge([b,b,b]))\n",
    "\n",
    "\n",
    "cv2.waitKey(0)\n",
    "cv2.destroyAllWindows()\n"
   ]
  },
  {
   "cell_type": "markdown",
   "metadata": {
    "tags": []
   },
   "source": [
    "---\n",
    "## 練習 2-2 解答\n",
    "在一個 $512*512*3$ 的黑色畫布上, 利用畫圓的函數 cv2.circle, for loop 和 亂數\n",
    ">* 以畫布中心為圓心, 畫出 12 等距同心圓\n",
    ">* 12 同心圓RGB顏色隨機變換, 每次不一樣<br>\n",
    "><img src=\"..\\image\\circle2-1.jpg\"  style='width:40%'>"
   ]
  },
  {
   "cell_type": "code",
   "execution_count": 34,
   "metadata": {},
   "outputs": [
    {
     "data": {
      "text/plain": [
       "-1"
      ]
     },
     "execution_count": 34,
     "metadata": {},
     "output_type": "execute_result"
    }
   ],
   "source": [
    "import numpy as np\n",
    "import cv2\n",
    "import random\n",
    "# ---- your code -----------------\n",
    "gc = np.zeros((512,512,3),dtype = 'uint8')#開畫布\n",
    "\n",
    "c = 12 \n",
    "for i in range (1,c+1):\n",
    "    b = random.randint(0,256)\n",
    "    g = random.randint(0,256)\n",
    "    r = random.randint(0,256)\n",
    "    cv2.circle(gc, (256, 256), i*20 ,( b, g, r) ,  5)\n",
    "\n",
    "cv2.imshow('draw',gc)\n",
    "cv2.waitKey(0)\n",
    "cv2.destroyAllWindows()\n",
    "cv2.waitKey(1)"
   ]
  },
  {
   "cell_type": "markdown",
   "metadata": {},
   "source": [
    "---\n",
    "## 練習 2-3\n",
    "在一個 $512*512*3$ 的黑色畫布上, 利用畫橢圓的函數 cv2.ellipse 和 for loop\n",
    ">* 以畫布中心為圓心, 畫出 12 同心等分 360 度橢圓, 顏色一樣<br>\n",
    "><img src=\"..\\image\\ellipse2-2.jpg\"  style='width:40%'>"
   ]
  },
  {
   "cell_type": "code",
   "execution_count": 77,
   "metadata": {},
   "outputs": [
    {
     "data": {
      "text/plain": [
       "-1"
      ]
     },
     "execution_count": 77,
     "metadata": {},
     "output_type": "execute_result"
    }
   ],
   "source": [
    "import numpy as np\n",
    "import cv2\n",
    "# ---- your code -----------------\n",
    "gc = np.zeros((512,512,3),dtype = 'uint8')#開畫布\n",
    "\n",
    "in_put = 36 \n",
    "for i in range (in_put):\n",
    "    cv2.ellipse(gc, (256, 256), (200, 50), 360/in_put*i , 0, 720, (80, 127, 255), 2)\n",
    "cv2.imshow('draw', gc) \n",
    "\n",
    "cv2.waitKey(0)\n",
    "cv2.destroyAllWindows()\n",
    "cv2.waitKey(1)"
   ]
  },
  {
   "cell_type": "markdown",
   "metadata": {},
   "source": [
    "---\n",
    "## 練習 2-4 \n",
    "在一個 $400*600*3$ 的黑色畫布上, 利用畫圓的函數隨機產生 40 個 (圓心隨機, 填滿顏色隨機, 半徑隨機)\n",
    "><img src=\"..\\image\\circle2-2.jpg\"  style='width:50%'>"
   ]
  },
  {
   "cell_type": "code",
   "execution_count": 82,
   "metadata": {},
   "outputs": [],
   "source": [
    "import cv2\n",
    "import numpy as np\n",
    "import random\n",
    "# ---- your code -----------\n",
    "\n",
    "gc = np.zeros((400,600,3),dtype = 'uint8')#開畫布\n",
    "for i in range(1,41):\n",
    "    b = random.randint(0,256)\n",
    "    g = random.randint(0,256)\n",
    "    r = random.randint(0,256)\n",
    "\n",
    "    x = random.randint(0,400)\n",
    "    y = random.randint(0,600)\n",
    "    i = random.randint(0,100)\n",
    "    cv2.circle(gc, (x,y), i ,( b, g, r) ,  -1)\n",
    "    cv2.imshow('draw', gc) \n",
    "\n",
    "#----EX\n",
    "height = 400\n",
    "width = 600\n",
    "img = np.zeros((height,width,3),np.uint8)\n",
    "for i in range(0,48):\n",
    "    cx = np.random.randint(0,width)\n",
    "    cy = np.random.randint(0,height)\n",
    "    color = np.random.randint(0,256,size=3).tolist()\n",
    "    r = np.random.randint(5,100)\n",
    "    cv2.circle(img,(cx,cy),r,color,-1)\n",
    "cv2.imshow('Random Circle',img)\n",
    "\n",
    "\n",
    "\n",
    "cv2.waitKey(0)                                      \n",
    "cv2.destroyAllWindows()                 # 刪除所有視窗"
   ]
  },
  {
   "cell_type": "markdown",
   "metadata": {},
   "source": [
    "randint"
   ]
  },
  {
   "cell_type": "code",
   "execution_count": null,
   "metadata": {},
   "outputs": [],
   "source": []
  }
 ],
 "metadata": {
  "kernelspec": {
   "display_name": "Python 3 (ipykernel)",
   "language": "python",
   "name": "python3"
  },
  "language_info": {
   "codemirror_mode": {
    "name": "ipython",
    "version": 3
   },
   "file_extension": ".py",
   "mimetype": "text/x-python",
   "name": "python",
   "nbconvert_exporter": "python",
   "pygments_lexer": "ipython3",
   "version": "3.9.16"
  }
 },
 "nbformat": 4,
 "nbformat_minor": 4
}
