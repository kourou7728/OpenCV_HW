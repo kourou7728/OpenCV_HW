{
 "cells": [
  {
   "cell_type": "markdown",
   "metadata": {},
   "source": [
    "## 練習 04_08\n",
    "> * 將 下列圖片 彩色載入\n",
    "> * 垂直 rotate 90 度, show 出結果\n",
    "> * 再 3x3 高斯濾波器, sigmaX=0.8, sigmaY=0.8, show 出結果<br>\n",
    "> * 再 sobelX, sobelY 後用(0.5, 0.5)的 權重加起來, show 出結果<br>\n",
    "> * 再輪廓偵測外框 (contours) 將找到的輪廓填滿畫在原圖上, show 出結果\n",
    "> * 將上圖中的圓心用圓圈標示出來, 並將面積標示於圓心旁邊\n",
    "\n",
    "### 必須將上列個各處理後的圖 imshow 出來"
   ]
  },
  {
   "cell_type": "code",
   "execution_count": 1,
   "metadata": {},
   "outputs": [
    {
     "name": "stdout",
     "output_type": "stream",
     "text": [
      "輪廓 0 的中心點 (254, 396),\t面積 :  35,872.00,\t周長 :    789.13\n",
      "輪廓 1 的中心點 (526, 256),\t面積 :  44,085.00,\t周長 :    785.49\n",
      "輪廓 2 的中心點 (144, 151),\t面積 :  24,638.00,\t周長 :    642.00\n",
      "輪廓 3 的中心點 (353, 116),\t面積 :  10,886.50,\t周長 :    672.20\n"
     ]
    },
    {
     "data": {
      "text/plain": [
       "-1"
      ]
     },
     "execution_count": 1,
     "metadata": {},
     "output_type": "execute_result"
    }
   ],
   "source": [
    "import cv2\n",
    "import numpy as np\n",
    "\n",
    "img = cv2.imread('../image/contour.png')\n",
    "\n",
    "# -------- 垂直 rotate 90 度 ------------------------\n",
    "\n",
    "img90 = cv2.rotate(img, cv2.ROTATE_90_CLOCKWISE)\n",
    "cv2.imshow('',img90)\n",
    "cv2.waitKey(0)\n",
    "# ----- 3*3 高斯濾波器 -----------------------------\n",
    "\n",
    "imgGs = cv2.GaussianBlur(img90, (3,3), 0.8, 0.8)\n",
    "cv2.imshow('Gs',imgGs)\n",
    "cv2.waitKey(0)\n",
    "\n",
    "# ------- 將前一處理後圖片取 SobelX, SobelY and addWeight(0.5, 0.5)----------\n",
    "\n",
    "sobelx = cv2.Sobel(img, cv2.CV_64F, 1,0)\n",
    "sobely = cv2.Sobel(img, cv2.CV_64F, 0,1)\n",
    "\n",
    "sobelx = cv2.convertScaleAbs(sobelx)\n",
    "sobely = cv2.convertScaleAbs(sobely)\n",
    "\n",
    "sobelxy = cv2.addWeighted(sobelx, 1, sobely, 1, 0)\n",
    "\n",
    "cv2.imshow('sobelxy',sobelxy)\n",
    "\n",
    "# print(f'sobelx uint8 :\\n{sobelx}\\n\\n'\n",
    "#       f'sobely uint8 :\\n{sobely}\\n\\n'\n",
    "#       f'sobelxy :\\n{sobelxy}\\n')\n",
    "\n",
    "# ------- 輪廓偵測 (contours) 將找到的輪廓畫在原圖上 ----------\n",
    "\n",
    "# img_1 = cv2.drawContours(im.copy(), cnts, -1, (0, 255, 0), 2)  # image, contour, contouridx, (color), thickness\n",
    "\n",
    "# imgray = cv2.cvtColor(img, cv2.COLOR_BGR2GRAY)\n",
    "# # ret, thresh = cv2.threshold(imgray, 127, 255, cv2.THRESH_BINARY_INV)\n",
    "# # th2, thresh = cv2.threshold(imgray, 0, 255,  cv2.THRESH_OTSU)  # type\n",
    "\n",
    "# cnts, hierarchy = cv2.findContours(thresh, cv2.RETR_EXTERNAL, cv2.CHAIN_APPROX_SIMPLE)\n",
    "# # cnts, hierarchy = cv2.findContours(thresh, cv2.RETR_LIST, cv2.CHAIN_APPROX_NONE)\n",
    "# # cnts, hierarchy = cv2.findContours(thresh, cv2.RETR_TREE, cv2.CHAIN_APPROX_NONE)\n",
    "\n",
    "# img1 = cv2.drawContours(img.copy(), cnts, -1, (0, 255, 0), 2)  # image, contour, contouridx, (color), thickness\n",
    "# cv2.imshow('img1',img1)\n",
    "\n",
    "sobelxy_g = cv2.cvtColor(sobelxy, cv2.COLOR_BGR2GRAY)\n",
    "cnts, hierarchy = cv2.findContours(sobelxy_g, cv2.RETR_EXTERNAL, cv2.CHAIN_APPROX_SIMPLE)\n",
    "mask = cv2.drawContours(sobelxy,cnts,-1, (0,0,255),-1)\n",
    "cv2.imshow('contour',mask)\n",
    "cv2.waitKey(0)\n",
    "\n",
    "\n",
    "\n",
    "# ------- 將上圖中的圓心用圓圈標示出來, 並將面積標示於中心旁邊 ---------\n",
    "for i in range(len(cnts)):\n",
    "    M = cv2.moments(cnts[i])\n",
    "    cx = int(M['m10'] / M['m00'])\n",
    "    cy = int(M['m01'] / M['m00'])\n",
    "    \n",
    "    area = cv2.contourArea(cnts[i])\n",
    "    round_len = cv2.arcLength(cnts[i], True)\n",
    "    cv2.circle(mask , (cx,cy) , 3, (0,255,0), -2)\n",
    "    cv2.putText(mask , f'area = {area}',(cx+10,cy), cv2.FONT_HERSHEY_SIMPLEX, 0.6 , (0,255,0), 2)\n",
    "    print(f'輪廓 {i} 的中心點 ({cx}, {cy}),\\t面積 : {area:10,.2f},\\t周長 : {round_len:9,.2f}')\n",
    "cv2.imshow('mask',mask)\n",
    "\n",
    "cv2.waitKey(0)\n",
    "cv2.destroyAllWindows()\n",
    "cv2.waitKey(1)"
   ]
  },
  {
   "cell_type": "code",
   "execution_count": null,
   "metadata": {},
   "outputs": [],
   "source": []
  }
 ],
 "metadata": {
  "kernelspec": {
   "display_name": "Python 3 (ipykernel)",
   "language": "python",
   "name": "python3"
  },
  "language_info": {
   "codemirror_mode": {
    "name": "ipython",
    "version": 3
   },
   "file_extension": ".py",
   "mimetype": "text/x-python",
   "name": "python",
   "nbconvert_exporter": "python",
   "pygments_lexer": "ipython3",
   "version": "3.9.16"
  }
 },
 "nbformat": 4,
 "nbformat_minor": 4
}
